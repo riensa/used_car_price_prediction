{
 "cells": [
  {
   "cell_type": "code",
   "execution_count": 1,
   "metadata": {
    "ExecuteTime": {
     "end_time": "2021-09-29T16:43:09.975976Z",
     "start_time": "2021-09-29T16:43:07.431418Z"
    }
   },
   "outputs": [],
   "source": [
    "import numpy as np\n",
    "import pandas as pd\n",
    "import matplotlib.pyplot as plt\n",
    "import seaborn as sns\n",
    "sns.set_theme(style='ticks', palette='Set2')\n",
    "\n",
    "from sklearn.compose import ColumnTransformer\n",
    "from sklearn.preprocessing import OneHotEncoder,RobustScaler\n",
    "import category_encoders as ce\n",
    "\n",
    "# model selection & hyperparameter tuning\n",
    "from sklearn.pipeline import Pipeline\n",
    "from sklearn.model_selection import train_test_split, KFold\n",
    "\n",
    "# model regression\n",
    "from sklearn.linear_model import LinearRegression, Lasso, Ridge\n",
    "from sklearn.tree import DecisionTreeRegressor, plot_tree\n",
    "from sklearn.neighbors import KNeighborsRegressor\n",
    "import catboost\n",
    "from catboost import CatBoostRegressor\n",
    "from xgboost.sklearn import XGBRegressor\n",
    "\n",
    "# metric regression\n",
    "from sklearn.metrics import mean_absolute_error, mean_absolute_percentage_error\n",
    "\n",
    "import time\n",
    "import warnings\n",
    "warnings.filterwarnings('ignore')\n"
   ]
  },
  {
   "cell_type": "markdown",
   "metadata": {},
   "source": [
    "**Get stored dataframe**"
   ]
  },
  {
   "cell_type": "code",
   "execution_count": 2,
   "metadata": {
    "ExecuteTime": {
     "end_time": "2021-09-29T16:43:10.073027Z",
     "start_time": "2021-09-29T16:43:09.978948Z"
    }
   },
   "outputs": [
    {
     "data": {
      "text/html": [
       "<div>\n",
       "<style scoped>\n",
       "    .dataframe tbody tr th:only-of-type {\n",
       "        vertical-align: middle;\n",
       "    }\n",
       "\n",
       "    .dataframe tbody tr th {\n",
       "        vertical-align: top;\n",
       "    }\n",
       "\n",
       "    .dataframe thead th {\n",
       "        text-align: right;\n",
       "    }\n",
       "</style>\n",
       "<table border=\"1\" class=\"dataframe\">\n",
       "  <thead>\n",
       "    <tr style=\"text-align: right;\">\n",
       "      <th></th>\n",
       "      <th>model</th>\n",
       "      <th>year</th>\n",
       "      <th>price</th>\n",
       "      <th>transmission</th>\n",
       "      <th>mileage</th>\n",
       "      <th>fuelType</th>\n",
       "      <th>tax</th>\n",
       "      <th>mpg</th>\n",
       "      <th>engineSize</th>\n",
       "      <th>brand</th>\n",
       "    </tr>\n",
       "  </thead>\n",
       "  <tbody>\n",
       "    <tr>\n",
       "      <th>0</th>\n",
       "      <td>A1</td>\n",
       "      <td>2017</td>\n",
       "      <td>12500</td>\n",
       "      <td>Manual</td>\n",
       "      <td>15735</td>\n",
       "      <td>Petrol</td>\n",
       "      <td>150.0</td>\n",
       "      <td>55.4</td>\n",
       "      <td>1.4</td>\n",
       "      <td>audi</td>\n",
       "    </tr>\n",
       "    <tr>\n",
       "      <th>1</th>\n",
       "      <td>A6</td>\n",
       "      <td>2016</td>\n",
       "      <td>16500</td>\n",
       "      <td>Automatic</td>\n",
       "      <td>36203</td>\n",
       "      <td>Diesel</td>\n",
       "      <td>20.0</td>\n",
       "      <td>64.2</td>\n",
       "      <td>2.0</td>\n",
       "      <td>audi</td>\n",
       "    </tr>\n",
       "    <tr>\n",
       "      <th>2</th>\n",
       "      <td>A1</td>\n",
       "      <td>2016</td>\n",
       "      <td>11000</td>\n",
       "      <td>Manual</td>\n",
       "      <td>29946</td>\n",
       "      <td>Petrol</td>\n",
       "      <td>30.0</td>\n",
       "      <td>55.4</td>\n",
       "      <td>1.4</td>\n",
       "      <td>audi</td>\n",
       "    </tr>\n",
       "    <tr>\n",
       "      <th>3</th>\n",
       "      <td>A4</td>\n",
       "      <td>2017</td>\n",
       "      <td>16800</td>\n",
       "      <td>Automatic</td>\n",
       "      <td>25952</td>\n",
       "      <td>Diesel</td>\n",
       "      <td>145.0</td>\n",
       "      <td>67.3</td>\n",
       "      <td>2.0</td>\n",
       "      <td>audi</td>\n",
       "    </tr>\n",
       "    <tr>\n",
       "      <th>4</th>\n",
       "      <td>A3</td>\n",
       "      <td>2019</td>\n",
       "      <td>17300</td>\n",
       "      <td>Manual</td>\n",
       "      <td>1998</td>\n",
       "      <td>Petrol</td>\n",
       "      <td>145.0</td>\n",
       "      <td>49.6</td>\n",
       "      <td>1.0</td>\n",
       "      <td>audi</td>\n",
       "    </tr>\n",
       "    <tr>\n",
       "      <th>...</th>\n",
       "      <td>...</td>\n",
       "      <td>...</td>\n",
       "      <td>...</td>\n",
       "      <td>...</td>\n",
       "      <td>...</td>\n",
       "      <td>...</td>\n",
       "      <td>...</td>\n",
       "      <td>...</td>\n",
       "      <td>...</td>\n",
       "      <td>...</td>\n",
       "    </tr>\n",
       "    <tr>\n",
       "      <th>108535</th>\n",
       "      <td>Eos</td>\n",
       "      <td>2012</td>\n",
       "      <td>5990</td>\n",
       "      <td>Manual</td>\n",
       "      <td>74000</td>\n",
       "      <td>Diesel</td>\n",
       "      <td>125.0</td>\n",
       "      <td>58.9</td>\n",
       "      <td>2.0</td>\n",
       "      <td>vw</td>\n",
       "    </tr>\n",
       "    <tr>\n",
       "      <th>108536</th>\n",
       "      <td>Fox</td>\n",
       "      <td>2008</td>\n",
       "      <td>1799</td>\n",
       "      <td>Manual</td>\n",
       "      <td>88102</td>\n",
       "      <td>Petrol</td>\n",
       "      <td>145.0</td>\n",
       "      <td>46.3</td>\n",
       "      <td>1.2</td>\n",
       "      <td>vw</td>\n",
       "    </tr>\n",
       "    <tr>\n",
       "      <th>108537</th>\n",
       "      <td>Fox</td>\n",
       "      <td>2009</td>\n",
       "      <td>1590</td>\n",
       "      <td>Manual</td>\n",
       "      <td>70000</td>\n",
       "      <td>Petrol</td>\n",
       "      <td>200.0</td>\n",
       "      <td>42.0</td>\n",
       "      <td>1.4</td>\n",
       "      <td>vw</td>\n",
       "    </tr>\n",
       "    <tr>\n",
       "      <th>108538</th>\n",
       "      <td>Fox</td>\n",
       "      <td>2006</td>\n",
       "      <td>1250</td>\n",
       "      <td>Manual</td>\n",
       "      <td>82704</td>\n",
       "      <td>Petrol</td>\n",
       "      <td>150.0</td>\n",
       "      <td>46.3</td>\n",
       "      <td>1.2</td>\n",
       "      <td>vw</td>\n",
       "    </tr>\n",
       "    <tr>\n",
       "      <th>108539</th>\n",
       "      <td>Fox</td>\n",
       "      <td>2007</td>\n",
       "      <td>2295</td>\n",
       "      <td>Manual</td>\n",
       "      <td>74000</td>\n",
       "      <td>Petrol</td>\n",
       "      <td>145.0</td>\n",
       "      <td>46.3</td>\n",
       "      <td>1.2</td>\n",
       "      <td>vw</td>\n",
       "    </tr>\n",
       "  </tbody>\n",
       "</table>\n",
       "<p>108540 rows × 10 columns</p>\n",
       "</div>"
      ],
      "text/plain": [
       "       model  year  price transmission  mileage fuelType    tax   mpg  \\\n",
       "0         A1  2017  12500       Manual    15735   Petrol  150.0  55.4   \n",
       "1         A6  2016  16500    Automatic    36203   Diesel   20.0  64.2   \n",
       "2         A1  2016  11000       Manual    29946   Petrol   30.0  55.4   \n",
       "3         A4  2017  16800    Automatic    25952   Diesel  145.0  67.3   \n",
       "4         A3  2019  17300       Manual     1998   Petrol  145.0  49.6   \n",
       "...      ...   ...    ...          ...      ...      ...    ...   ...   \n",
       "108535   Eos  2012   5990       Manual    74000   Diesel  125.0  58.9   \n",
       "108536   Fox  2008   1799       Manual    88102   Petrol  145.0  46.3   \n",
       "108537   Fox  2009   1590       Manual    70000   Petrol  200.0  42.0   \n",
       "108538   Fox  2006   1250       Manual    82704   Petrol  150.0  46.3   \n",
       "108539   Fox  2007   2295       Manual    74000   Petrol  145.0  46.3   \n",
       "\n",
       "        engineSize brand  \n",
       "0              1.4  audi  \n",
       "1              2.0  audi  \n",
       "2              1.4  audi  \n",
       "3              2.0  audi  \n",
       "4              1.0  audi  \n",
       "...            ...   ...  \n",
       "108535         2.0    vw  \n",
       "108536         1.2    vw  \n",
       "108537         1.4    vw  \n",
       "108538         1.2    vw  \n",
       "108539         1.2    vw  \n",
       "\n",
       "[108540 rows x 10 columns]"
      ]
     },
     "execution_count": 2,
     "metadata": {},
     "output_type": "execute_result"
    }
   ],
   "source": [
    "%store -r df\n",
    "df"
   ]
  },
  {
   "cell_type": "markdown",
   "metadata": {},
   "source": [
    "# Cleaning Data"
   ]
  },
  {
   "cell_type": "code",
   "execution_count": 3,
   "metadata": {
    "ExecuteTime": {
     "end_time": "2021-09-29T16:43:10.081447Z",
     "start_time": "2021-09-29T16:43:10.075075Z"
    }
   },
   "outputs": [],
   "source": [
    "def proportionByBrand(i_df):\n",
    "    plt.figure(figsize=(15,8))\n",
    "    proportion = i_df['brand'].value_counts().reset_index()\n",
    "    sns.barplot(x='index', y='brand', data=proportion)\n",
    "    for i in range(len(proportion)): plt.text(i, (proportion['brand'][i]), int(proportion['brand'][i]), ha='center')\n",
    "        "
   ]
  },
  {
   "cell_type": "markdown",
   "metadata": {},
   "source": [
    "## Identifying & Handling Duplicate Data"
   ]
  },
  {
   "cell_type": "code",
   "execution_count": 4,
   "metadata": {
    "ExecuteTime": {
     "end_time": "2021-09-29T16:43:10.219349Z",
     "start_time": "2021-09-29T16:43:10.084396Z"
    }
   },
   "outputs": [
    {
     "data": {
      "text/plain": [
       "(2273, 10)"
      ]
     },
     "execution_count": 4,
     "metadata": {},
     "output_type": "execute_result"
    }
   ],
   "source": [
    "duplicated_df = df[df.duplicated(keep='first')==True]\n",
    "duplicated_df.shape"
   ]
  },
  {
   "cell_type": "code",
   "execution_count": 5,
   "metadata": {
    "ExecuteTime": {
     "end_time": "2021-09-29T16:43:10.517517Z",
     "start_time": "2021-09-29T16:43:10.222665Z"
    }
   },
   "outputs": [
    {
     "data": {
      "image/png": "[encoded data removed]",
      "text/plain": [
       "<Figure size 1080x576 with 1 Axes>"
      ]
     },
     "metadata": {},
     "output_type": "display_data"
    }
   ],
   "source": [
    "proportionByBrand(duplicated_df)"
   ]
  },
  {
   "cell_type": "markdown",
   "metadata": {},
   "source": [
    "1. Terdapat 22730 baris data duplicat atau sekitar 2.09% dari keseluruhan dataset\n",
    "2. Brand mobil ford memiliki jumlah data duplikat terbanyak yaitu sejumlah 850 baris data atau sekitar 37.40% dari keseluruhan data duplikat\n",
    "\n",
    "Untuk menghindari terjadi overfitting akibat data duplikat ini, maka kita perlu melakukan drop data"
   ]
  },
  {
   "cell_type": "code",
   "execution_count": 6,
   "metadata": {
    "ExecuteTime": {
     "end_time": "2021-09-29T16:43:10.655258Z",
     "start_time": "2021-09-29T16:43:10.520115Z"
    }
   },
   "outputs": [
    {
     "data": {
      "text/html": [
       "<div>\n",
       "<style scoped>\n",
       "    .dataframe tbody tr th:only-of-type {\n",
       "        vertical-align: middle;\n",
       "    }\n",
       "\n",
       "    .dataframe tbody tr th {\n",
       "        vertical-align: top;\n",
       "    }\n",
       "\n",
       "    .dataframe thead th {\n",
       "        text-align: right;\n",
       "    }\n",
       "</style>\n",
       "<table border=\"1\" class=\"dataframe\">\n",
       "  <thead>\n",
       "    <tr style=\"text-align: right;\">\n",
       "      <th></th>\n",
       "      <th>model</th>\n",
       "      <th>year</th>\n",
       "      <th>price</th>\n",
       "      <th>transmission</th>\n",
       "      <th>mileage</th>\n",
       "      <th>fuelType</th>\n",
       "      <th>tax</th>\n",
       "      <th>mpg</th>\n",
       "      <th>engineSize</th>\n",
       "      <th>brand</th>\n",
       "    </tr>\n",
       "  </thead>\n",
       "  <tbody>\n",
       "    <tr>\n",
       "      <th>0</th>\n",
       "      <td>A1</td>\n",
       "      <td>2017</td>\n",
       "      <td>12500</td>\n",
       "      <td>Manual</td>\n",
       "      <td>15735</td>\n",
       "      <td>Petrol</td>\n",
       "      <td>150.0</td>\n",
       "      <td>55.4</td>\n",
       "      <td>1.4</td>\n",
       "      <td>audi</td>\n",
       "    </tr>\n",
       "    <tr>\n",
       "      <th>1</th>\n",
       "      <td>A6</td>\n",
       "      <td>2016</td>\n",
       "      <td>16500</td>\n",
       "      <td>Automatic</td>\n",
       "      <td>36203</td>\n",
       "      <td>Diesel</td>\n",
       "      <td>20.0</td>\n",
       "      <td>64.2</td>\n",
       "      <td>2.0</td>\n",
       "      <td>audi</td>\n",
       "    </tr>\n",
       "    <tr>\n",
       "      <th>2</th>\n",
       "      <td>A1</td>\n",
       "      <td>2016</td>\n",
       "      <td>11000</td>\n",
       "      <td>Manual</td>\n",
       "      <td>29946</td>\n",
       "      <td>Petrol</td>\n",
       "      <td>30.0</td>\n",
       "      <td>55.4</td>\n",
       "      <td>1.4</td>\n",
       "      <td>audi</td>\n",
       "    </tr>\n",
       "    <tr>\n",
       "      <th>3</th>\n",
       "      <td>A4</td>\n",
       "      <td>2017</td>\n",
       "      <td>16800</td>\n",
       "      <td>Automatic</td>\n",
       "      <td>25952</td>\n",
       "      <td>Diesel</td>\n",
       "      <td>145.0</td>\n",
       "      <td>67.3</td>\n",
       "      <td>2.0</td>\n",
       "      <td>audi</td>\n",
       "    </tr>\n",
       "    <tr>\n",
       "      <th>4</th>\n",
       "      <td>A3</td>\n",
       "      <td>2019</td>\n",
       "      <td>17300</td>\n",
       "      <td>Manual</td>\n",
       "      <td>1998</td>\n",
       "      <td>Petrol</td>\n",
       "      <td>145.0</td>\n",
       "      <td>49.6</td>\n",
       "      <td>1.0</td>\n",
       "      <td>audi</td>\n",
       "    </tr>\n",
       "    <tr>\n",
       "      <th>...</th>\n",
       "      <td>...</td>\n",
       "      <td>...</td>\n",
       "      <td>...</td>\n",
       "      <td>...</td>\n",
       "      <td>...</td>\n",
       "      <td>...</td>\n",
       "      <td>...</td>\n",
       "      <td>...</td>\n",
       "      <td>...</td>\n",
       "      <td>...</td>\n",
       "    </tr>\n",
       "    <tr>\n",
       "      <th>108535</th>\n",
       "      <td>Eos</td>\n",
       "      <td>2012</td>\n",
       "      <td>5990</td>\n",
       "      <td>Manual</td>\n",
       "      <td>74000</td>\n",
       "      <td>Diesel</td>\n",
       "      <td>125.0</td>\n",
       "      <td>58.9</td>\n",
       "      <td>2.0</td>\n",
       "      <td>vw</td>\n",
       "    </tr>\n",
       "    <tr>\n",
       "      <th>108536</th>\n",
       "      <td>Fox</td>\n",
       "      <td>2008</td>\n",
       "      <td>1799</td>\n",
       "      <td>Manual</td>\n",
       "      <td>88102</td>\n",
       "      <td>Petrol</td>\n",
       "      <td>145.0</td>\n",
       "      <td>46.3</td>\n",
       "      <td>1.2</td>\n",
       "      <td>vw</td>\n",
       "    </tr>\n",
       "    <tr>\n",
       "      <th>108537</th>\n",
       "      <td>Fox</td>\n",
       "      <td>2009</td>\n",
       "      <td>1590</td>\n",
       "      <td>Manual</td>\n",
       "      <td>70000</td>\n",
       "      <td>Petrol</td>\n",
       "      <td>200.0</td>\n",
       "      <td>42.0</td>\n",
       "      <td>1.4</td>\n",
       "      <td>vw</td>\n",
       "    </tr>\n",
       "    <tr>\n",
       "      <th>108538</th>\n",
       "      <td>Fox</td>\n",
       "      <td>2006</td>\n",
       "      <td>1250</td>\n",
       "      <td>Manual</td>\n",
       "      <td>82704</td>\n",
       "      <td>Petrol</td>\n",
       "      <td>150.0</td>\n",
       "      <td>46.3</td>\n",
       "      <td>1.2</td>\n",
       "      <td>vw</td>\n",
       "    </tr>\n",
       "    <tr>\n",
       "      <th>108539</th>\n",
       "      <td>Fox</td>\n",
       "      <td>2007</td>\n",
       "      <td>2295</td>\n",
       "      <td>Manual</td>\n",
       "      <td>74000</td>\n",
       "      <td>Petrol</td>\n",
       "      <td>145.0</td>\n",
       "      <td>46.3</td>\n",
       "      <td>1.2</td>\n",
       "      <td>vw</td>\n",
       "    </tr>\n",
       "  </tbody>\n",
       "</table>\n",
       "<p>106267 rows × 10 columns</p>\n",
       "</div>"
      ],
      "text/plain": [
       "       model  year  price transmission  mileage fuelType    tax   mpg  \\\n",
       "0         A1  2017  12500       Manual    15735   Petrol  150.0  55.4   \n",
       "1         A6  2016  16500    Automatic    36203   Diesel   20.0  64.2   \n",
       "2         A1  2016  11000       Manual    29946   Petrol   30.0  55.4   \n",
       "3         A4  2017  16800    Automatic    25952   Diesel  145.0  67.3   \n",
       "4         A3  2019  17300       Manual     1998   Petrol  145.0  49.6   \n",
       "...      ...   ...    ...          ...      ...      ...    ...   ...   \n",
       "108535   Eos  2012   5990       Manual    74000   Diesel  125.0  58.9   \n",
       "108536   Fox  2008   1799       Manual    88102   Petrol  145.0  46.3   \n",
       "108537   Fox  2009   1590       Manual    70000   Petrol  200.0  42.0   \n",
       "108538   Fox  2006   1250       Manual    82704   Petrol  150.0  46.3   \n",
       "108539   Fox  2007   2295       Manual    74000   Petrol  145.0  46.3   \n",
       "\n",
       "        engineSize brand  \n",
       "0              1.4  audi  \n",
       "1              2.0  audi  \n",
       "2              1.4  audi  \n",
       "3              2.0  audi  \n",
       "4              1.0  audi  \n",
       "...            ...   ...  \n",
       "108535         2.0    vw  \n",
       "108536         1.2    vw  \n",
       "108537         1.4    vw  \n",
       "108538         1.2    vw  \n",
       "108539         1.2    vw  \n",
       "\n",
       "[106267 rows x 10 columns]"
      ]
     },
     "execution_count": 6,
     "metadata": {},
     "output_type": "execute_result"
    }
   ],
   "source": [
    "df=df.drop_duplicates(keep='first')\n",
    "df"
   ]
  },
  {
   "cell_type": "markdown",
   "metadata": {},
   "source": [
    "Setelah data yang duplikat di didrop, sekarang kita memiliki 106267 baris data didataset kita"
   ]
  },
  {
   "cell_type": "markdown",
   "metadata": {},
   "source": [
    "## Identifying & Handling Anomali Data"
   ]
  },
  {
   "cell_type": "markdown",
   "metadata": {},
   "source": [
    "Pada tahap **Data Understanding** kita mendapati dua anomali data, yaitu :\n",
    "1. Anomali pada variable Year, dimana max year = 2060\n",
    "2. Anomali pada variable engineSize, dimana min engineSize = 0"
   ]
  },
  {
   "cell_type": "markdown",
   "metadata": {},
   "source": [
    "**Anomali pada Variable Year**"
   ]
  },
  {
   "cell_type": "code",
   "execution_count": 7,
   "metadata": {
    "ExecuteTime": {
     "end_time": "2021-09-29T16:43:10.689583Z",
     "start_time": "2021-09-29T16:43:10.657723Z"
    }
   },
   "outputs": [
    {
     "data": {
      "text/html": [
       "<div>\n",
       "<style scoped>\n",
       "    .dataframe tbody tr th:only-of-type {\n",
       "        vertical-align: middle;\n",
       "    }\n",
       "\n",
       "    .dataframe tbody tr th {\n",
       "        vertical-align: top;\n",
       "    }\n",
       "\n",
       "    .dataframe thead th {\n",
       "        text-align: right;\n",
       "    }\n",
       "</style>\n",
       "<table border=\"1\" class=\"dataframe\">\n",
       "  <thead>\n",
       "    <tr style=\"text-align: right;\">\n",
       "      <th></th>\n",
       "      <th>model</th>\n",
       "      <th>year</th>\n",
       "      <th>price</th>\n",
       "      <th>transmission</th>\n",
       "      <th>mileage</th>\n",
       "      <th>fuelType</th>\n",
       "      <th>tax</th>\n",
       "      <th>mpg</th>\n",
       "      <th>engineSize</th>\n",
       "      <th>brand</th>\n",
       "    </tr>\n",
       "  </thead>\n",
       "  <tbody>\n",
       "    <tr>\n",
       "      <th>48528</th>\n",
       "      <td>Fiesta</td>\n",
       "      <td>2060</td>\n",
       "      <td>6495</td>\n",
       "      <td>Automatic</td>\n",
       "      <td>54807</td>\n",
       "      <td>Petrol</td>\n",
       "      <td>205.0</td>\n",
       "      <td>42.8</td>\n",
       "      <td>1.4</td>\n",
       "      <td>ford</td>\n",
       "    </tr>\n",
       "  </tbody>\n",
       "</table>\n",
       "</div>"
      ],
      "text/plain": [
       "        model  year  price transmission  mileage fuelType    tax   mpg  \\\n",
       "48528  Fiesta  2060   6495    Automatic    54807   Petrol  205.0  42.8   \n",
       "\n",
       "       engineSize brand  \n",
       "48528         1.4  ford  "
      ]
     },
     "execution_count": 7,
     "metadata": {},
     "output_type": "execute_result"
    }
   ],
   "source": [
    "df[df['year'] == 2060]"
   ]
  },
  {
   "cell_type": "markdown",
   "metadata": {},
   "source": [
    "Dari informasi diatas, kita mendapati bahwa hanya ada satu data yang memiliki nilai year = 2060. Maka kita bisa melakukan drop data untuk menghilangkan anomali data tersebut."
   ]
  },
  {
   "cell_type": "code",
   "execution_count": 8,
   "metadata": {
    "ExecuteTime": {
     "end_time": "2021-09-29T16:43:10.735528Z",
     "start_time": "2021-09-29T16:43:10.696778Z"
    }
   },
   "outputs": [],
   "source": [
    "df = df.drop(df[df['year'] == 2060].index)"
   ]
  },
  {
   "cell_type": "code",
   "execution_count": 9,
   "metadata": {
    "ExecuteTime": {
     "end_time": "2021-09-29T16:43:10.748769Z",
     "start_time": "2021-09-29T16:43:10.743112Z"
    }
   },
   "outputs": [
    {
     "data": {
      "text/plain": [
       "(106266, 10)"
      ]
     },
     "execution_count": 9,
     "metadata": {},
     "output_type": "execute_result"
    }
   ],
   "source": [
    "df.shape"
   ]
  },
  {
   "cell_type": "markdown",
   "metadata": {},
   "source": [
    "setelah data anomali tersebut di drop, sekarang kita memiliki 106266 baris data didataset kita"
   ]
  },
  {
   "cell_type": "markdown",
   "metadata": {},
   "source": [
    "**Anomali pada Variable engineSize**"
   ]
  },
  {
   "cell_type": "code",
   "execution_count": 10,
   "metadata": {
    "ExecuteTime": {
     "end_time": "2021-09-29T16:43:10.779103Z",
     "start_time": "2021-09-29T16:43:10.752847Z"
    }
   },
   "outputs": [
    {
     "data": {
      "text/plain": [
       "(281, 10)"
      ]
     },
     "execution_count": 10,
     "metadata": {},
     "output_type": "execute_result"
    }
   ],
   "source": [
    "zeroEngineSize_df = df[df['engineSize'] == 0]\n",
    "zeroEngineSize_df.shape"
   ]
  },
  {
   "cell_type": "code",
   "execution_count": 11,
   "metadata": {
    "ExecuteTime": {
     "end_time": "2021-09-29T16:43:11.064010Z",
     "start_time": "2021-09-29T16:43:10.793786Z"
    }
   },
   "outputs": [
    {
     "data": {
      "image/png": "[encoded data removed]",
      "text/plain": [
       "<Figure size 1080x576 with 1 Axes>"
      ]
     },
     "metadata": {},
     "output_type": "display_data"
    }
   ],
   "source": [
    "proportionByBrand(zeroEngineSize_df)"
   ]
  },
  {
   "cell_type": "markdown",
   "metadata": {},
   "source": [
    "1. Terdapat 281 baris data yang memiliki engineSize = 0 didataset kita\n",
    "2. Brand mobil ford memiliki jumlah data engineSize = 0 terbanyak sejumlah 63 data atau sekitar 22.42% dari keseluruhan baris data yang memiliki engineSize = 0\n",
    "\n",
    "Karena jumlah datanya cukup banyak, maka kita akan menganggap data yang memiliki engineSize = 0 sebagai missing value"
   ]
  },
  {
   "cell_type": "markdown",
   "metadata": {},
   "source": [
    "## Identifying & Handling Missing Value"
   ]
  },
  {
   "cell_type": "markdown",
   "metadata": {},
   "source": [
    "Kita akan mencoba mengisi data missing value dengan mengambil data dari mobil yang memiliki kriteria yang sama. "
   ]
  },
  {
   "cell_type": "code",
   "execution_count": 12,
   "metadata": {
    "ExecuteTime": {
     "end_time": "2021-09-29T16:43:11.074342Z",
     "start_time": "2021-09-29T16:43:11.066433Z"
    }
   },
   "outputs": [],
   "source": [
    "def fillMVByCriteria(criteria, mv_df, mv_col):\n",
    "    # looping dataframe menggunakan indexnya\n",
    "    for mv_index in mv_df.index:\n",
    "        q = ''\n",
    "        order = 1\n",
    "\n",
    "        # DataFrame.query memiliki argumen expr, yang kita bisa isi dengan query string\n",
    "        # maka kita harus mengubah query yang kita inginkan menjadi bentuk string\n",
    "        for j in criteria:\n",
    "            # untuk data yang tipenya string, harus ditambahkan tanda kutip\n",
    "            if type(mv_df.loc[mv_index][j]) == np.str:\n",
    "                q += j + ' == \"' + mv_df.loc[mv_index][j] + '\"'\n",
    "            else:\n",
    "                q += j + ' == ' + np.str(mv_df.loc[mv_index][j])\n",
    "\n",
    "            # menambahkan `and` pada query string kita\n",
    "            if order < len(criteria):\n",
    "                q += ' and '\n",
    "                order += 1\n",
    "\n",
    "\n",
    "        # simpan dataframe hasil query dengan kriteria yang mirip tersebut\n",
    "        similar_criteria = df.dropna().query(q)\n",
    "\n",
    "        # jika dataframe diatas tidak kosong\n",
    "        if similar_criteria.empty == False:\n",
    "            for k in mv_col:\n",
    "                # ambil nilai yang frequensinya terbanyak\n",
    "                df.loc[mv_index, k] = similar_criteria[k].value_counts().index[0]\n",
    "            "
   ]
  },
  {
   "cell_type": "markdown",
   "metadata": {},
   "source": [
    "**Missing Value pada Variable Engine Size**"
   ]
  },
  {
   "cell_type": "markdown",
   "metadata": {
    "ExecuteTime": {
     "end_time": "2021-09-29T12:13:50.059614Z",
     "start_time": "2021-09-29T12:13:50.051992Z"
    }
   },
   "source": [
    "Kriteria yang akan kita gunakan untuk mengisi missing value pada engine size ada adalah model, year, transmission & fuel type"
   ]
  },
  {
   "cell_type": "code",
   "execution_count": 13,
   "metadata": {
    "ExecuteTime": {
     "end_time": "2021-09-29T16:43:22.572802Z",
     "start_time": "2021-09-29T16:43:11.080452Z"
    }
   },
   "outputs": [],
   "source": [
    "fillMVByCriteria(['model', 'year', 'transmission', 'fuelType'], df[df['engineSize'] == 0], ['engineSize'])"
   ]
  },
  {
   "cell_type": "code",
   "execution_count": 14,
   "metadata": {
    "ExecuteTime": {
     "end_time": "2021-09-29T16:43:22.591310Z",
     "start_time": "2021-09-29T16:43:22.574634Z"
    }
   },
   "outputs": [
    {
     "data": {
      "text/plain": [
       "(63, 10)"
      ]
     },
     "execution_count": 14,
     "metadata": {},
     "output_type": "execute_result"
    }
   ],
   "source": [
    "df[df['engineSize'] == 0].shape"
   ]
  },
  {
   "cell_type": "markdown",
   "metadata": {},
   "source": [
    "Kita berhasil mengisi 218 baris data sehingga hanya tersisa 63 data yang memiliki engineSize = 0 . Data yang masih 0 ini akan kita biarkan sebagai penanda data missing value."
   ]
  },
  {
   "cell_type": "markdown",
   "metadata": {},
   "source": [
    "**Missing Value pada Variable Tax & MPG**"
   ]
  },
  {
   "cell_type": "markdown",
   "metadata": {},
   "source": [
    "Pada tahap **Data Understanding** kita mendapati jumlah data Non-Null pada kolom tax & mpg berbeda dengan kolom lainnya. Maka kita akan coba hitung jumlah data NaN yang berada di kolom tersebut."
   ]
  },
  {
   "cell_type": "code",
   "execution_count": 15,
   "metadata": {
    "ExecuteTime": {
     "end_time": "2021-09-29T16:43:22.624233Z",
     "start_time": "2021-09-29T16:43:22.599334Z"
    }
   },
   "outputs": [
    {
     "data": {
      "text/plain": [
       "8555"
      ]
     },
     "execution_count": 15,
     "metadata": {},
     "output_type": "execute_result"
    }
   ],
   "source": [
    "df['tax'].isna().sum()"
   ]
  },
  {
   "cell_type": "code",
   "execution_count": 16,
   "metadata": {
    "ExecuteTime": {
     "end_time": "2021-09-29T16:43:22.647943Z",
     "start_time": "2021-09-29T16:43:22.629420Z"
    }
   },
   "outputs": [
    {
     "data": {
      "text/plain": [
       "8555"
      ]
     },
     "execution_count": 16,
     "metadata": {},
     "output_type": "execute_result"
    }
   ],
   "source": [
    "df['mpg'].isna().sum()"
   ]
  },
  {
   "cell_type": "code",
   "execution_count": 17,
   "metadata": {
    "ExecuteTime": {
     "end_time": "2021-09-29T16:43:22.724551Z",
     "start_time": "2021-09-29T16:43:22.654117Z"
    }
   },
   "outputs": [
    {
     "data": {
      "text/plain": [
       "True"
      ]
     },
     "execution_count": 17,
     "metadata": {},
     "output_type": "execute_result"
    }
   ],
   "source": [
    "# cek apakah tax & mpg yang memiliki data NaN memiliki index yang sama\n",
    "tax_index = list(df['tax'].isna().index)\n",
    "mpg_index = list(df['mpg'].isna().index)\n",
    "tax_index == mpg_index"
   ]
  },
  {
   "cell_type": "markdown",
   "metadata": {},
   "source": [
    "Ternyata memang benar ada 8555 baris data NaN yang berada dikolom tersebut dan indexnya identical. Untuk selanjutnya kita akan mencoba mengisi data NaN tersebut dengan kriteria mobil: model, year, transmission, fuel type & engineSize"
   ]
  },
  {
   "cell_type": "code",
   "execution_count": 18,
   "metadata": {
    "ExecuteTime": {
     "end_time": "2021-09-29T16:49:28.589948Z",
     "start_time": "2021-09-29T16:43:22.729641Z"
    }
   },
   "outputs": [],
   "source": [
    "fillMVByCriteria(['model', 'year', 'transmission', 'fuelType', 'engineSize'], df[df['tax'].isna()==True], ['tax', 'mpg'])\n"
   ]
  },
  {
   "cell_type": "code",
   "execution_count": 19,
   "metadata": {
    "ExecuteTime": {
     "end_time": "2021-09-29T16:49:28.651189Z",
     "start_time": "2021-09-29T16:49:28.593349Z"
    }
   },
   "outputs": [
    {
     "data": {
      "text/plain": [
       "model            0\n",
       "year             0\n",
       "price            0\n",
       "transmission     0\n",
       "mileage          0\n",
       "fuelType         0\n",
       "tax             28\n",
       "mpg             28\n",
       "engineSize       0\n",
       "brand            0\n",
       "dtype: int64"
      ]
     },
     "execution_count": 19,
     "metadata": {},
     "output_type": "execute_result"
    }
   ],
   "source": [
    "df.isna().sum()"
   ]
  },
  {
   "cell_type": "markdown",
   "metadata": {},
   "source": [
    "Setelah dicek, ternyata masih ada 28 data yang missing value, sisa data yang missing value ini akan diisi dengan 0 value untuk menandai missing valuenya"
   ]
  },
  {
   "cell_type": "code",
   "execution_count": 20,
   "metadata": {
    "ExecuteTime": {
     "end_time": "2021-09-29T16:49:28.743927Z",
     "start_time": "2021-09-29T16:49:28.654258Z"
    }
   },
   "outputs": [],
   "source": [
    "df = df.fillna(0)"
   ]
  },
  {
   "cell_type": "code",
   "execution_count": 21,
   "metadata": {
    "ExecuteTime": {
     "end_time": "2021-09-29T16:49:28.841421Z",
     "start_time": "2021-09-29T16:49:28.759573Z"
    }
   },
   "outputs": [
    {
     "data": {
      "text/plain": [
       "model           0\n",
       "year            0\n",
       "price           0\n",
       "transmission    0\n",
       "mileage         0\n",
       "fuelType        0\n",
       "tax             0\n",
       "mpg             0\n",
       "engineSize      0\n",
       "brand           0\n",
       "dtype: int64"
      ]
     },
     "execution_count": 21,
     "metadata": {},
     "output_type": "execute_result"
    }
   ],
   "source": [
    "df.isna().sum()"
   ]
  },
  {
   "cell_type": "markdown",
   "metadata": {},
   "source": [
    "Karena kita mengisi missing value dengan kriteria mobil yang mirip, kemungkinan terjadinya duplikat data sangat tinggi, maka kita perlu untuk mengecek ulang data yang duplikat dan drop data tersebut"
   ]
  },
  {
   "cell_type": "code",
   "execution_count": 22,
   "metadata": {
    "ExecuteTime": {
     "end_time": "2021-09-29T16:49:28.978306Z",
     "start_time": "2021-09-29T16:49:28.844415Z"
    }
   },
   "outputs": [
    {
     "data": {
      "text/html": [
       "<div>\n",
       "<style scoped>\n",
       "    .dataframe tbody tr th:only-of-type {\n",
       "        vertical-align: middle;\n",
       "    }\n",
       "\n",
       "    .dataframe tbody tr th {\n",
       "        vertical-align: top;\n",
       "    }\n",
       "\n",
       "    .dataframe thead th {\n",
       "        text-align: right;\n",
       "    }\n",
       "</style>\n",
       "<table border=\"1\" class=\"dataframe\">\n",
       "  <thead>\n",
       "    <tr style=\"text-align: right;\">\n",
       "      <th></th>\n",
       "      <th>model</th>\n",
       "      <th>year</th>\n",
       "      <th>price</th>\n",
       "      <th>transmission</th>\n",
       "      <th>mileage</th>\n",
       "      <th>fuelType</th>\n",
       "      <th>tax</th>\n",
       "      <th>mpg</th>\n",
       "      <th>engineSize</th>\n",
       "      <th>brand</th>\n",
       "    </tr>\n",
       "  </thead>\n",
       "  <tbody>\n",
       "    <tr>\n",
       "      <th>7667</th>\n",
       "      <td>Q3</td>\n",
       "      <td>2020</td>\n",
       "      <td>33990</td>\n",
       "      <td>Automatic</td>\n",
       "      <td>1500</td>\n",
       "      <td>Diesel</td>\n",
       "      <td>145.0</td>\n",
       "      <td>47.1</td>\n",
       "      <td>2.0</td>\n",
       "      <td>audi</td>\n",
       "    </tr>\n",
       "    <tr>\n",
       "      <th>30827</th>\n",
       "      <td>Focus</td>\n",
       "      <td>2017</td>\n",
       "      <td>18499</td>\n",
       "      <td>Manual</td>\n",
       "      <td>13063</td>\n",
       "      <td>Petrol</td>\n",
       "      <td>145.0</td>\n",
       "      <td>41.5</td>\n",
       "      <td>2.0</td>\n",
       "      <td>ford</td>\n",
       "    </tr>\n",
       "    <tr>\n",
       "      <th>30834</th>\n",
       "      <td>Focus</td>\n",
       "      <td>2019</td>\n",
       "      <td>18990</td>\n",
       "      <td>Manual</td>\n",
       "      <td>8400</td>\n",
       "      <td>Petrol</td>\n",
       "      <td>145.0</td>\n",
       "      <td>60.1</td>\n",
       "      <td>1.0</td>\n",
       "      <td>ford</td>\n",
       "    </tr>\n",
       "    <tr>\n",
       "      <th>30848</th>\n",
       "      <td>Focus</td>\n",
       "      <td>2017</td>\n",
       "      <td>14960</td>\n",
       "      <td>Manual</td>\n",
       "      <td>23554</td>\n",
       "      <td>Petrol</td>\n",
       "      <td>145.0</td>\n",
       "      <td>41.5</td>\n",
       "      <td>2.0</td>\n",
       "      <td>ford</td>\n",
       "    </tr>\n",
       "    <tr>\n",
       "      <th>30850</th>\n",
       "      <td>Focus</td>\n",
       "      <td>2019</td>\n",
       "      <td>17970</td>\n",
       "      <td>Manual</td>\n",
       "      <td>10985</td>\n",
       "      <td>Diesel</td>\n",
       "      <td>145.0</td>\n",
       "      <td>74.3</td>\n",
       "      <td>1.5</td>\n",
       "      <td>ford</td>\n",
       "    </tr>\n",
       "    <tr>\n",
       "      <th>...</th>\n",
       "      <td>...</td>\n",
       "      <td>...</td>\n",
       "      <td>...</td>\n",
       "      <td>...</td>\n",
       "      <td>...</td>\n",
       "      <td>...</td>\n",
       "      <td>...</td>\n",
       "      <td>...</td>\n",
       "      <td>...</td>\n",
       "      <td>...</td>\n",
       "    </tr>\n",
       "    <tr>\n",
       "      <th>66730</th>\n",
       "      <td>C Class</td>\n",
       "      <td>2019</td>\n",
       "      <td>23444</td>\n",
       "      <td>Automatic</td>\n",
       "      <td>10284</td>\n",
       "      <td>Diesel</td>\n",
       "      <td>145.0</td>\n",
       "      <td>61.4</td>\n",
       "      <td>2.0</td>\n",
       "      <td>merc</td>\n",
       "    </tr>\n",
       "    <tr>\n",
       "      <th>66733</th>\n",
       "      <td>C Class</td>\n",
       "      <td>2019</td>\n",
       "      <td>27999</td>\n",
       "      <td>Automatic</td>\n",
       "      <td>6537</td>\n",
       "      <td>Petrol</td>\n",
       "      <td>145.0</td>\n",
       "      <td>44.1</td>\n",
       "      <td>2.0</td>\n",
       "      <td>merc</td>\n",
       "    </tr>\n",
       "    <tr>\n",
       "      <th>66734</th>\n",
       "      <td>C Class</td>\n",
       "      <td>2019</td>\n",
       "      <td>24999</td>\n",
       "      <td>Automatic</td>\n",
       "      <td>6064</td>\n",
       "      <td>Diesel</td>\n",
       "      <td>145.0</td>\n",
       "      <td>61.4</td>\n",
       "      <td>2.0</td>\n",
       "      <td>merc</td>\n",
       "    </tr>\n",
       "    <tr>\n",
       "      <th>66739</th>\n",
       "      <td>C Class</td>\n",
       "      <td>2019</td>\n",
       "      <td>30399</td>\n",
       "      <td>Automatic</td>\n",
       "      <td>5000</td>\n",
       "      <td>Diesel</td>\n",
       "      <td>145.0</td>\n",
       "      <td>61.4</td>\n",
       "      <td>2.0</td>\n",
       "      <td>merc</td>\n",
       "    </tr>\n",
       "    <tr>\n",
       "      <th>66740</th>\n",
       "      <td>C Class</td>\n",
       "      <td>2020</td>\n",
       "      <td>30999</td>\n",
       "      <td>Automatic</td>\n",
       "      <td>1000</td>\n",
       "      <td>Diesel</td>\n",
       "      <td>145.0</td>\n",
       "      <td>64.2</td>\n",
       "      <td>2.0</td>\n",
       "      <td>merc</td>\n",
       "    </tr>\n",
       "  </tbody>\n",
       "</table>\n",
       "<p>3977 rows × 10 columns</p>\n",
       "</div>"
      ],
      "text/plain": [
       "         model  year  price transmission  mileage fuelType    tax   mpg  \\\n",
       "7667        Q3  2020  33990    Automatic     1500   Diesel  145.0  47.1   \n",
       "30827    Focus  2017  18499       Manual    13063   Petrol  145.0  41.5   \n",
       "30834    Focus  2019  18990       Manual     8400   Petrol  145.0  60.1   \n",
       "30848    Focus  2017  14960       Manual    23554   Petrol  145.0  41.5   \n",
       "30850    Focus  2019  17970       Manual    10985   Diesel  145.0  74.3   \n",
       "...        ...   ...    ...          ...      ...      ...    ...   ...   \n",
       "66730  C Class  2019  23444    Automatic    10284   Diesel  145.0  61.4   \n",
       "66733  C Class  2019  27999    Automatic     6537   Petrol  145.0  44.1   \n",
       "66734  C Class  2019  24999    Automatic     6064   Diesel  145.0  61.4   \n",
       "66739  C Class  2019  30399    Automatic     5000   Diesel  145.0  61.4   \n",
       "66740  C Class  2020  30999    Automatic     1000   Diesel  145.0  64.2   \n",
       "\n",
       "       engineSize brand  \n",
       "7667          2.0  audi  \n",
       "30827         2.0  ford  \n",
       "30834         1.0  ford  \n",
       "30848         2.0  ford  \n",
       "30850         1.5  ford  \n",
       "...           ...   ...  \n",
       "66730         2.0  merc  \n",
       "66733         2.0  merc  \n",
       "66734         2.0  merc  \n",
       "66739         2.0  merc  \n",
       "66740         2.0  merc  \n",
       "\n",
       "[3977 rows x 10 columns]"
      ]
     },
     "execution_count": 22,
     "metadata": {},
     "output_type": "execute_result"
    }
   ],
   "source": [
    "df[df.duplicated(keep='first')==True]"
   ]
  },
  {
   "cell_type": "markdown",
   "metadata": {
    "ExecuteTime": {
     "end_time": "2021-09-29T10:44:48.151013Z",
     "start_time": "2021-09-29T10:44:48.121174Z"
    }
   },
   "source": [
    "Terdapat 3977 data yang duplikat, maka data tersebut akan kita drop"
   ]
  },
  {
   "cell_type": "code",
   "execution_count": 23,
   "metadata": {
    "ExecuteTime": {
     "end_time": "2021-09-29T16:49:29.091232Z",
     "start_time": "2021-09-29T16:49:28.983563Z"
    }
   },
   "outputs": [
    {
     "data": {
      "text/plain": [
       "(102289, 10)"
      ]
     },
     "execution_count": 23,
     "metadata": {},
     "output_type": "execute_result"
    }
   ],
   "source": [
    "df=df.drop_duplicates(keep='first')\n",
    "df.shape"
   ]
  },
  {
   "cell_type": "markdown",
   "metadata": {},
   "source": [
    "Sehingga sekarang kita memiliki 102289 baris data didataset kita dari sebelumnya 108540 baris data. Proses cleaning data ini membuat kita melakukan drop data sebanyak 6251 baris data atau sekitar 5.76% dari jumlah baris data di dataset awal yang kita miliki"
   ]
  },
  {
   "cell_type": "markdown",
   "metadata": {},
   "source": [
    "# Model Benchmark"
   ]
  },
  {
   "cell_type": "markdown",
   "metadata": {},
   "source": [
    "## Encoding Categorical Data"
   ]
  },
  {
   "cell_type": "code",
   "execution_count": 24,
   "metadata": {
    "ExecuteTime": {
     "end_time": "2021-09-29T16:49:29.101823Z",
     "start_time": "2021-09-29T16:49:29.093326Z"
    }
   },
   "outputs": [],
   "source": [
    "transformer = ColumnTransformer([\n",
    "    ('one hot encoding', OneHotEncoder(drop='first'), ['transmission', 'fuelType', 'brand']),\n",
    "    ('binary encoding', ce.BinaryEncoder(),['model']),\n",
    "], remainder='passthrough')"
   ]
  },
  {
   "cell_type": "markdown",
   "metadata": {},
   "source": [
    "## Splitting Data"
   ]
  },
  {
   "cell_type": "code",
   "execution_count": 25,
   "metadata": {
    "ExecuteTime": {
     "end_time": "2021-09-29T16:49:29.116293Z",
     "start_time": "2021-09-29T16:49:29.104448Z"
    }
   },
   "outputs": [],
   "source": [
    "x = df.drop(columns=['price'])\n",
    "y = df['price']"
   ]
  },
  {
   "cell_type": "code",
   "execution_count": 26,
   "metadata": {
    "ExecuteTime": {
     "end_time": "2021-09-29T16:49:29.181586Z",
     "start_time": "2021-09-29T16:49:29.122210Z"
    }
   },
   "outputs": [],
   "source": [
    "x_train, x_test, y_train, y_test = train_test_split(\n",
    "    x,\n",
    "    y,\n",
    "    random_state=2020\n",
    ")"
   ]
  },
  {
   "cell_type": "markdown",
   "metadata": {},
   "source": [
    "## Model Comparison"
   ]
  },
  {
   "cell_type": "code",
   "execution_count": 27,
   "metadata": {
    "ExecuteTime": {
     "end_time": "2021-09-29T16:49:29.190954Z",
     "start_time": "2021-09-29T16:49:29.184384Z"
    }
   },
   "outputs": [],
   "source": [
    "modelLinReg = LinearRegression()\n",
    "modelRidge = Ridge()\n",
    "modelLasso = Lasso()\n",
    "modelTree = DecisionTreeRegressor(random_state=2020)\n",
    "modelKNN = KNeighborsRegressor()\n",
    "modelXGB = XGBRegressor(random_state=2020)\n",
    "modelCB = CatBoostRegressor(random_state=2020, silent=True)"
   ]
  },
  {
   "cell_type": "code",
   "execution_count": 28,
   "metadata": {
    "ExecuteTime": {
     "end_time": "2021-09-29T16:49:29.205135Z",
     "start_time": "2021-09-29T16:49:29.194032Z"
    }
   },
   "outputs": [],
   "source": [
    "ml_models = [\n",
    "    modelLinReg, \n",
    "    modelRidge,\n",
    "    modelLasso,\n",
    "    modelTree,\n",
    "    modelKNN,\n",
    "    modelXGB,\n",
    "    modelCB\n",
    "]"
   ]
  },
  {
   "cell_type": "code",
   "execution_count": 29,
   "metadata": {
    "ExecuteTime": {
     "end_time": "2021-09-29T16:54:37.511793Z",
     "start_time": "2021-09-29T16:49:29.208272Z"
    }
   },
   "outputs": [],
   "source": [
    "kf = KFold(n_splits=5, shuffle=True, random_state=2020)\n",
    "\n",
    "mae_mean = []\n",
    "mae_std = []\n",
    "mape_mean = []\n",
    "mape_std = []\n",
    "exec_time = []\n",
    "for i in ml_models:\n",
    "    start_time = time.time()\n",
    "    mae_scores = []\n",
    "    mape_scores = []\n",
    "    \n",
    "    for train_index, val_index in kf.split(x_train):\n",
    "    #     print(\"TRAIN:\", train_index, \"VAL:\", val_index)\n",
    "        x1_train, x_val = x_train.iloc[train_index], x_train.iloc[val_index]\n",
    "        y1_train, y_val = y_train.iloc[train_index], y_train.iloc[val_index]\n",
    "        \n",
    "        estimator = Pipeline([\n",
    "            ('preprocess', transformer),\n",
    "            ('model', i)\n",
    "        ])\n",
    "        \n",
    "        estimator.fit(x1_train, y1_train)\n",
    "        mae_scores.append(mean_absolute_error(y_val, estimator.predict(x_val)))\n",
    "        mape_scores.append(mean_absolute_percentage_error(y_val, estimator.predict(x_val)))\n",
    "\n",
    "    mae_mean.append(np.mean(mae_scores))\n",
    "    mae_std.append(np.std(mae_scores))\n",
    "    mape_mean.append(np.mean(mape_scores)*100)\n",
    "    mape_std.append(np.std(mape_scores)*100)\n",
    "    exec_time.append(time.time() - start_time)\n",
    "    "
   ]
  },
  {
   "cell_type": "code",
   "execution_count": 30,
   "metadata": {
    "ExecuteTime": {
     "end_time": "2021-09-29T16:54:37.563080Z",
     "start_time": "2021-09-29T16:54:37.515555Z"
    }
   },
   "outputs": [
    {
     "data": {
      "text/html": [
       "<div>\n",
       "<style scoped>\n",
       "    .dataframe tbody tr th:only-of-type {\n",
       "        vertical-align: middle;\n",
       "    }\n",
       "\n",
       "    .dataframe tbody tr th {\n",
       "        vertical-align: top;\n",
       "    }\n",
       "\n",
       "    .dataframe thead th {\n",
       "        text-align: right;\n",
       "    }\n",
       "</style>\n",
       "<table border=\"1\" class=\"dataframe\">\n",
       "  <thead>\n",
       "    <tr style=\"text-align: right;\">\n",
       "      <th></th>\n",
       "      <th>model</th>\n",
       "      <th>mae_score_mean</th>\n",
       "      <th>mae_score_std</th>\n",
       "      <th>mape_score_mean</th>\n",
       "      <th>mape_score_std</th>\n",
       "      <th>execution_time</th>\n",
       "    </tr>\n",
       "  </thead>\n",
       "  <tbody>\n",
       "    <tr>\n",
       "      <th>0</th>\n",
       "      <td>linreg</td>\n",
       "      <td>2911.513573</td>\n",
       "      <td>25.710810</td>\n",
       "      <td>22.380245</td>\n",
       "      <td>0.552677</td>\n",
       "      <td>1.800602</td>\n",
       "    </tr>\n",
       "    <tr>\n",
       "      <th>1</th>\n",
       "      <td>ridge</td>\n",
       "      <td>2911.480371</td>\n",
       "      <td>25.637158</td>\n",
       "      <td>22.380317</td>\n",
       "      <td>0.551775</td>\n",
       "      <td>1.439630</td>\n",
       "    </tr>\n",
       "    <tr>\n",
       "      <th>2</th>\n",
       "      <td>lasso</td>\n",
       "      <td>2910.938348</td>\n",
       "      <td>25.697048</td>\n",
       "      <td>22.372932</td>\n",
       "      <td>0.544569</td>\n",
       "      <td>2.160097</td>\n",
       "    </tr>\n",
       "    <tr>\n",
       "      <th>3</th>\n",
       "      <td>tree</td>\n",
       "      <td>1502.401792</td>\n",
       "      <td>13.176410</td>\n",
       "      <td>9.432450</td>\n",
       "      <td>0.072420</td>\n",
       "      <td>3.189087</td>\n",
       "    </tr>\n",
       "    <tr>\n",
       "      <th>4</th>\n",
       "      <td>knn</td>\n",
       "      <td>5252.885170</td>\n",
       "      <td>38.999391</td>\n",
       "      <td>37.473430</td>\n",
       "      <td>0.225567</td>\n",
       "      <td>218.897294</td>\n",
       "    </tr>\n",
       "    <tr>\n",
       "      <th>5</th>\n",
       "      <td>xgb</td>\n",
       "      <td>1295.875105</td>\n",
       "      <td>8.621708</td>\n",
       "      <td>8.106577</td>\n",
       "      <td>0.086111</td>\n",
       "      <td>37.527691</td>\n",
       "    </tr>\n",
       "    <tr>\n",
       "      <th>6</th>\n",
       "      <td>cb</td>\n",
       "      <td>1250.137395</td>\n",
       "      <td>9.303551</td>\n",
       "      <td>7.809943</td>\n",
       "      <td>0.060868</td>\n",
       "      <td>43.270207</td>\n",
       "    </tr>\n",
       "  </tbody>\n",
       "</table>\n",
       "</div>"
      ],
      "text/plain": [
       "    model  mae_score_mean  mae_score_std  mape_score_mean  mape_score_std  \\\n",
       "0  linreg     2911.513573      25.710810        22.380245        0.552677   \n",
       "1   ridge     2911.480371      25.637158        22.380317        0.551775   \n",
       "2   lasso     2910.938348      25.697048        22.372932        0.544569   \n",
       "3    tree     1502.401792      13.176410         9.432450        0.072420   \n",
       "4     knn     5252.885170      38.999391        37.473430        0.225567   \n",
       "5     xgb     1295.875105       8.621708         8.106577        0.086111   \n",
       "6      cb     1250.137395       9.303551         7.809943        0.060868   \n",
       "\n",
       "   execution_time  \n",
       "0        1.800602  \n",
       "1        1.439630  \n",
       "2        2.160097  \n",
       "3        3.189087  \n",
       "4      218.897294  \n",
       "5       37.527691  \n",
       "6       43.270207  "
      ]
     },
     "execution_count": 30,
     "metadata": {},
     "output_type": "execute_result"
    }
   ],
   "source": [
    "modelBenchmark=pd.DataFrame({\n",
    "    'model': ['linreg', 'ridge', 'lasso', 'tree', 'knn', 'xgb', 'cb'],\n",
    "    'mae_score_mean': mae_mean,\n",
    "    'mae_score_std': mae_std,\n",
    "    'mape_score_mean': mape_mean,\n",
    "    'mape_score_std': mape_std,\n",
    "    'execution_time': exec_time\n",
    "})\n",
    "modelBenchmark"
   ]
  },
  {
   "cell_type": "code",
   "execution_count": null,
   "metadata": {},
   "outputs": [],
   "source": []
  }
 ],
 "metadata": {
  "kernelspec": {
   "display_name": "Python 3",
   "language": "python",
   "name": "python3"
  },
  "language_info": {
   "codemirror_mode": {
    "name": "ipython",
    "version": 3
   },
   "file_extension": ".py",
   "mimetype": "text/x-python",
   "name": "python",
   "nbconvert_exporter": "python",
   "pygments_lexer": "ipython3",
   "version": "3.8.5"
  },
  "toc": {
   "base_numbering": 1,
   "nav_menu": {},
   "number_sections": true,
   "sideBar": true,
   "skip_h1_title": false,
   "title_cell": "Table of Contents",
   "title_sidebar": "Contents",
   "toc_cell": false,
   "toc_position": {},
   "toc_section_display": true,
   "toc_window_display": true
  }
 },
 "nbformat": 4,
 "nbformat_minor": 4
}
