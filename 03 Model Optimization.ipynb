{
 "cells": [
  {
   "cell_type": "code",
   "execution_count": 1,
   "metadata": {
    "ExecuteTime": {
     "end_time": "2021-10-06T10:18:25.045892Z",
     "start_time": "2021-10-06T10:18:23.000799Z"
    }
   },
   "outputs": [],
   "source": [
    "import numpy as np\n",
    "import pandas as pd\n",
    "pd.set_option('display.max_colwidth', None)\n",
    "\n",
    "from sklearn.compose import ColumnTransformer\n",
    "from sklearn.preprocessing import OneHotEncoder\n",
    "import category_encoders as ce\n",
    "\n",
    "# model selection & hyperparameter tuning\n",
    "from sklearn.pipeline import Pipeline\n",
    "from sklearn.model_selection import train_test_split, KFold\n",
    "\n",
    "# model regression\n",
    "from sklearn.ensemble import RandomForestRegressor\n",
    "import catboost\n",
    "from catboost import CatBoostRegressor\n",
    "\n",
    "# metric regression\n",
    "from sklearn.metrics import mean_absolute_error, mean_absolute_percentage_error\n",
    "\n",
    "# hyperparameter tuning\n",
    "import hyperopt\n",
    "from hyperopt import hp, fmin, tpe, STATUS_OK, Trials\n",
    "\n",
    "import time\n",
    "import warnings\n",
    "warnings.filterwarnings('ignore')\n"
   ]
  },
  {
   "cell_type": "markdown",
   "metadata": {
    "ExecuteTime": {
     "end_time": "2021-10-06T09:55:23.284232Z",
     "start_time": "2021-10-06T09:55:23.150169Z"
    }
   },
   "source": [
    "**Get Stored Var**"
   ]
  },
  {
   "cell_type": "code",
   "execution_count": 2,
   "metadata": {
    "ExecuteTime": {
     "end_time": "2021-10-06T10:18:25.167578Z",
     "start_time": "2021-10-06T10:18:25.062444Z"
    }
   },
   "outputs": [
    {
     "data": {
      "text/html": [
       "<div>\n",
       "<style scoped>\n",
       "    .dataframe tbody tr th:only-of-type {\n",
       "        vertical-align: middle;\n",
       "    }\n",
       "\n",
       "    .dataframe tbody tr th {\n",
       "        vertical-align: top;\n",
       "    }\n",
       "\n",
       "    .dataframe thead th {\n",
       "        text-align: right;\n",
       "    }\n",
       "</style>\n",
       "<table border=\"1\" class=\"dataframe\">\n",
       "  <thead>\n",
       "    <tr style=\"text-align: right;\">\n",
       "      <th></th>\n",
       "      <th>model</th>\n",
       "      <th>year</th>\n",
       "      <th>price</th>\n",
       "      <th>transmission</th>\n",
       "      <th>mileage</th>\n",
       "      <th>fuelType</th>\n",
       "      <th>tax</th>\n",
       "      <th>mpg</th>\n",
       "      <th>engineSize</th>\n",
       "      <th>brand</th>\n",
       "    </tr>\n",
       "  </thead>\n",
       "  <tbody>\n",
       "    <tr>\n",
       "      <th>0</th>\n",
       "      <td>A1</td>\n",
       "      <td>2017</td>\n",
       "      <td>12500</td>\n",
       "      <td>Manual</td>\n",
       "      <td>15735</td>\n",
       "      <td>Petrol</td>\n",
       "      <td>150.0</td>\n",
       "      <td>55.4</td>\n",
       "      <td>1.4</td>\n",
       "      <td>audi</td>\n",
       "    </tr>\n",
       "    <tr>\n",
       "      <th>1</th>\n",
       "      <td>A6</td>\n",
       "      <td>2016</td>\n",
       "      <td>16500</td>\n",
       "      <td>Automatic</td>\n",
       "      <td>36203</td>\n",
       "      <td>Diesel</td>\n",
       "      <td>20.0</td>\n",
       "      <td>64.2</td>\n",
       "      <td>2.0</td>\n",
       "      <td>audi</td>\n",
       "    </tr>\n",
       "    <tr>\n",
       "      <th>2</th>\n",
       "      <td>A1</td>\n",
       "      <td>2016</td>\n",
       "      <td>11000</td>\n",
       "      <td>Manual</td>\n",
       "      <td>29946</td>\n",
       "      <td>Petrol</td>\n",
       "      <td>30.0</td>\n",
       "      <td>55.4</td>\n",
       "      <td>1.4</td>\n",
       "      <td>audi</td>\n",
       "    </tr>\n",
       "    <tr>\n",
       "      <th>3</th>\n",
       "      <td>A4</td>\n",
       "      <td>2017</td>\n",
       "      <td>16800</td>\n",
       "      <td>Automatic</td>\n",
       "      <td>25952</td>\n",
       "      <td>Diesel</td>\n",
       "      <td>145.0</td>\n",
       "      <td>67.3</td>\n",
       "      <td>2.0</td>\n",
       "      <td>audi</td>\n",
       "    </tr>\n",
       "    <tr>\n",
       "      <th>4</th>\n",
       "      <td>A3</td>\n",
       "      <td>2019</td>\n",
       "      <td>17300</td>\n",
       "      <td>Manual</td>\n",
       "      <td>1998</td>\n",
       "      <td>Petrol</td>\n",
       "      <td>145.0</td>\n",
       "      <td>49.6</td>\n",
       "      <td>1.0</td>\n",
       "      <td>audi</td>\n",
       "    </tr>\n",
       "  </tbody>\n",
       "</table>\n",
       "</div>"
      ],
      "text/plain": [
       "  model  year  price transmission  mileage fuelType    tax   mpg  engineSize  \\\n",
       "0    A1  2017  12500       Manual    15735   Petrol  150.0  55.4         1.4   \n",
       "1    A6  2016  16500    Automatic    36203   Diesel   20.0  64.2         2.0   \n",
       "2    A1  2016  11000       Manual    29946   Petrol   30.0  55.4         1.4   \n",
       "3    A4  2017  16800    Automatic    25952   Diesel  145.0  67.3         2.0   \n",
       "4    A3  2019  17300       Manual     1998   Petrol  145.0  49.6         1.0   \n",
       "\n",
       "  brand  \n",
       "0  audi  \n",
       "1  audi  \n",
       "2  audi  \n",
       "3  audi  \n",
       "4  audi  "
      ]
     },
     "execution_count": 2,
     "metadata": {},
     "output_type": "execute_result"
    }
   ],
   "source": [
    "%store -r df_clean\n",
    "df_clean.head()"
   ]
  },
  {
   "cell_type": "code",
   "execution_count": 3,
   "metadata": {
    "ExecuteTime": {
     "end_time": "2021-10-06T10:18:25.208733Z",
     "start_time": "2021-10-06T10:18:25.171193Z"
    }
   },
   "outputs": [
    {
     "data": {
      "text/plain": [
       "ColumnTransformer(remainder='passthrough',\n",
       "                  transformers=[('catboost encoder', CatBoostEncoder(),\n",
       "                                 ['model', 'transmission', 'fuelType',\n",
       "                                  'brand'])])"
      ]
     },
     "execution_count": 3,
     "metadata": {},
     "output_type": "execute_result"
    }
   ],
   "source": [
    "%store -r transformer\n",
    "transformer"
   ]
  },
  {
   "cell_type": "markdown",
   "metadata": {},
   "source": [
    "# Feature Engineering"
   ]
  },
  {
   "cell_type": "markdown",
   "metadata": {},
   "source": [
    "Pada tahap EDA, kita sudah menganalisa dan mendapatkan beberapa tambahan informasi yang bisa kita jadikan feature baru, mereka adalah :\n",
    "1. Audi, BMW dan Merc termasuk brand mobil mewah dan memiliki rentang harga mobil yang lebih tinggi dibanding brand lainnya\n",
    "2. Terdapat 2 mobil antik dengan harga yang cukup tinggi \n"
   ]
  },
  {
   "cell_type": "code",
   "execution_count": 4,
   "metadata": {
    "ExecuteTime": {
     "end_time": "2021-10-06T10:18:25.333612Z",
     "start_time": "2021-10-06T10:18:25.214499Z"
    }
   },
   "outputs": [
    {
     "data": {
      "text/html": [
       "<div>\n",
       "<style scoped>\n",
       "    .dataframe tbody tr th:only-of-type {\n",
       "        vertical-align: middle;\n",
       "    }\n",
       "\n",
       "    .dataframe tbody tr th {\n",
       "        vertical-align: top;\n",
       "    }\n",
       "\n",
       "    .dataframe thead th {\n",
       "        text-align: right;\n",
       "    }\n",
       "</style>\n",
       "<table border=\"1\" class=\"dataframe\">\n",
       "  <thead>\n",
       "    <tr style=\"text-align: right;\">\n",
       "      <th></th>\n",
       "      <th>model</th>\n",
       "      <th>year</th>\n",
       "      <th>price</th>\n",
       "      <th>transmission</th>\n",
       "      <th>mileage</th>\n",
       "      <th>fuelType</th>\n",
       "      <th>tax</th>\n",
       "      <th>mpg</th>\n",
       "      <th>engineSize</th>\n",
       "      <th>brand</th>\n",
       "      <th>lux_brand</th>\n",
       "      <th>antique</th>\n",
       "    </tr>\n",
       "  </thead>\n",
       "  <tbody>\n",
       "    <tr>\n",
       "      <th>0</th>\n",
       "      <td>A1</td>\n",
       "      <td>2017</td>\n",
       "      <td>12500</td>\n",
       "      <td>Manual</td>\n",
       "      <td>15735</td>\n",
       "      <td>Petrol</td>\n",
       "      <td>150.0</td>\n",
       "      <td>55.4</td>\n",
       "      <td>1.4</td>\n",
       "      <td>audi</td>\n",
       "      <td>1</td>\n",
       "      <td>0</td>\n",
       "    </tr>\n",
       "    <tr>\n",
       "      <th>1</th>\n",
       "      <td>A6</td>\n",
       "      <td>2016</td>\n",
       "      <td>16500</td>\n",
       "      <td>Automatic</td>\n",
       "      <td>36203</td>\n",
       "      <td>Diesel</td>\n",
       "      <td>20.0</td>\n",
       "      <td>64.2</td>\n",
       "      <td>2.0</td>\n",
       "      <td>audi</td>\n",
       "      <td>1</td>\n",
       "      <td>0</td>\n",
       "    </tr>\n",
       "    <tr>\n",
       "      <th>2</th>\n",
       "      <td>A1</td>\n",
       "      <td>2016</td>\n",
       "      <td>11000</td>\n",
       "      <td>Manual</td>\n",
       "      <td>29946</td>\n",
       "      <td>Petrol</td>\n",
       "      <td>30.0</td>\n",
       "      <td>55.4</td>\n",
       "      <td>1.4</td>\n",
       "      <td>audi</td>\n",
       "      <td>1</td>\n",
       "      <td>0</td>\n",
       "    </tr>\n",
       "    <tr>\n",
       "      <th>3</th>\n",
       "      <td>A4</td>\n",
       "      <td>2017</td>\n",
       "      <td>16800</td>\n",
       "      <td>Automatic</td>\n",
       "      <td>25952</td>\n",
       "      <td>Diesel</td>\n",
       "      <td>145.0</td>\n",
       "      <td>67.3</td>\n",
       "      <td>2.0</td>\n",
       "      <td>audi</td>\n",
       "      <td>1</td>\n",
       "      <td>0</td>\n",
       "    </tr>\n",
       "    <tr>\n",
       "      <th>4</th>\n",
       "      <td>A3</td>\n",
       "      <td>2019</td>\n",
       "      <td>17300</td>\n",
       "      <td>Manual</td>\n",
       "      <td>1998</td>\n",
       "      <td>Petrol</td>\n",
       "      <td>145.0</td>\n",
       "      <td>49.6</td>\n",
       "      <td>1.0</td>\n",
       "      <td>audi</td>\n",
       "      <td>1</td>\n",
       "      <td>0</td>\n",
       "    </tr>\n",
       "  </tbody>\n",
       "</table>\n",
       "</div>"
      ],
      "text/plain": [
       "  model  year  price transmission  mileage fuelType    tax   mpg  engineSize  \\\n",
       "0    A1  2017  12500       Manual    15735   Petrol  150.0  55.4         1.4   \n",
       "1    A6  2016  16500    Automatic    36203   Diesel   20.0  64.2         2.0   \n",
       "2    A1  2016  11000       Manual    29946   Petrol   30.0  55.4         1.4   \n",
       "3    A4  2017  16800    Automatic    25952   Diesel  145.0  67.3         2.0   \n",
       "4    A3  2019  17300       Manual     1998   Petrol  145.0  49.6         1.0   \n",
       "\n",
       "  brand  lux_brand  antique  \n",
       "0  audi          1        0  \n",
       "1  audi          1        0  \n",
       "2  audi          1        0  \n",
       "3  audi          1        0  \n",
       "4  audi          1        0  "
      ]
     },
     "execution_count": 4,
     "metadata": {},
     "output_type": "execute_result"
    }
   ],
   "source": [
    "df_clean['lux_brand'] = np.where((df_clean['brand'] == 'audi') | (df_clean['brand'] == 'bmw') | (df_clean['brand'] == 'merc'), 1, 0)\n",
    "df_clean['antique'] = np.where(df_clean['year'] == 1970, 1, 0)\n",
    "df_clean.head()"
   ]
  },
  {
   "cell_type": "markdown",
   "metadata": {},
   "source": [
    "# Splitting Data"
   ]
  },
  {
   "cell_type": "code",
   "execution_count": 5,
   "metadata": {
    "ExecuteTime": {
     "end_time": "2021-10-06T10:18:25.358403Z",
     "start_time": "2021-10-06T10:18:25.342220Z"
    }
   },
   "outputs": [],
   "source": [
    "x = df_clean.drop(columns=['price'])\n",
    "y = df_clean['price']"
   ]
  },
  {
   "cell_type": "code",
   "execution_count": 6,
   "metadata": {
    "ExecuteTime": {
     "end_time": "2021-10-06T10:18:25.435354Z",
     "start_time": "2021-10-06T10:18:25.372655Z"
    }
   },
   "outputs": [],
   "source": [
    "x_train, x_test, y_train, y_test = train_test_split(\n",
    "    x,\n",
    "    y,\n",
    "    random_state=2020\n",
    ")"
   ]
  },
  {
   "cell_type": "code",
   "execution_count": 7,
   "metadata": {
    "ExecuteTime": {
     "end_time": "2021-10-06T10:18:25.532025Z",
     "start_time": "2021-10-06T10:18:25.444010Z"
    }
   },
   "outputs": [],
   "source": [
    "# data train dibagi lagi menjadi data train dan data validation\n",
    "x2_train, x_val, y2_train, y_val = train_test_split(\n",
    "    x_train,\n",
    "    y_train,\n",
    "    random_state=2020\n",
    ")"
   ]
  },
  {
   "cell_type": "markdown",
   "metadata": {},
   "source": [
    "# Hyperparameter Tuning"
   ]
  },
  {
   "cell_type": "code",
   "execution_count": 8,
   "metadata": {
    "ExecuteTime": {
     "end_time": "2021-10-06T10:18:25.554803Z",
     "start_time": "2021-10-06T10:18:25.534382Z"
    }
   },
   "outputs": [],
   "source": [
    "def getEstimatorResult(estimator, iterasi):\n",
    "    global cur_best_mae, cur_best_mape\n",
    "    y_pred = estimator.predict(x_val)\n",
    "    test_mae = mean_absolute_error(y_val, y_pred)\n",
    "\n",
    "    if test_mae < cur_best_mae:\n",
    "        cur_best_mae = test_mae\n",
    "        cur_best_mape = mean_absolute_percentage_error(y_val, y_pred)*100\n",
    "        print(f'iterasi : {iterasi}, cur_best_mae: {cur_best_mae}')\n",
    "\n",
    "    return{'loss':cur_best_mae, 'status': STATUS_OK }\n",
    "\n",
    "def objRandomForest(space):\n",
    "    global obj_call_count\n",
    "    obj_call_count += 1\n",
    "    \n",
    "    model = RandomForestRegressor(\n",
    "        max_depth=space['max_depth'], \n",
    "        min_samples_split= int(space['min_samples_split']),\n",
    "        min_samples_leaf= int(space['min_samples_leaf']),\n",
    "        random_state=2020\n",
    "    )\n",
    "    \n",
    "    estimator = Pipeline([\n",
    "                    ('preprocess', transformer),\n",
    "                    ('model', model)\n",
    "                ])\n",
    "    estimator.fit(x2_train, y2_train)\n",
    "    \n",
    "    return getEstimatorResult(estimator, obj_call_count)\n",
    "\n",
    "def objCatBoost(space):\n",
    "    global obj_call_count\n",
    "    obj_call_count += 1\n",
    "    \n",
    "    model = CatBoostRegressor(\n",
    "        learning_rate=space['learning_rate'], \n",
    "        depth=int(space['depth']), \n",
    "        silent=True, \n",
    "        random_state=2020\n",
    "    )\n",
    "    \n",
    "    estimator = Pipeline([\n",
    "                    ('preprocess', transformer),\n",
    "                    ('model', model)\n",
    "                ])\n",
    "    estimator.fit(x2_train, y2_train)\n",
    "    \n",
    "    return getEstimatorResult(estimator, obj_call_count)\n",
    "\n",
    "def objCatBoostCategory(space):\n",
    "    global obj_call_count\n",
    "    obj_call_count += 1\n",
    "    \n",
    "    estimator = CatBoostRegressor(\n",
    "        learning_rate=space['learning_rate'], \n",
    "        depth=int(space['depth']), \n",
    "        cat_features=['model', 'transmission', 'fuelType', 'brand'],\n",
    "        silent=True, \n",
    "        random_state=2020\n",
    "    )\n",
    "    estimator.fit(x2_train, y2_train)\n",
    "    \n",
    "    return getEstimatorResult(estimator, obj_call_count)\n",
    "    "
   ]
  },
  {
   "cell_type": "code",
   "execution_count": 9,
   "metadata": {
    "ExecuteTime": {
     "end_time": "2021-10-06T12:03:16.664423Z",
     "start_time": "2021-10-06T10:18:25.562280Z"
    }
   },
   "outputs": [
    {
     "name": "stdout",
     "output_type": "stream",
     "text": [
      "Random Forest\n",
      "iterasi : 1, cur_best_mae: 2333.6811158980076          \n",
      "iterasi : 2, cur_best_mae: 1593.5469664639254                                    \n",
      "iterasi : 13, cur_best_mae: 1591.3950412511085                                    \n",
      "iterasi : 21, cur_best_mae: 1590.4838457539856                                    \n",
      "100%|██████████| 100/100 [25:22<00:00, 15.22s/trial, best loss: 1590.4838457539856]\n",
      "====================================================================================================\n",
      "CatBoost\n",
      "iterasi : 1, cur_best_mae: 1381.4611140491331          \n",
      "iterasi : 3, cur_best_mae: 1263.6392523184331                                    \n",
      "iterasi : 10, cur_best_mae: 1261.5839245685559                                   \n",
      "iterasi : 66, cur_best_mae: 1257.9197108161716                                    \n",
      "iterasi : 71, cur_best_mae: 1249.6949267880575                                    \n",
      "iterasi : 72, cur_best_mae: 1238.2905097208195                                    \n",
      "iterasi : 86, cur_best_mae: 1237.6786611056805                                    \n",
      "100%|██████████| 100/100 [17:53<00:00, 10.73s/trial, best loss: 1237.6786611056805]\n",
      "====================================================================================================\n",
      "CatBoost Category\n",
      "iterasi : 1, cur_best_mae: 1333.0461661988818          \n",
      "iterasi : 3, cur_best_mae: 1170.2935178849198                                      \n",
      "iterasi : 93, cur_best_mae: 1155.7357214032734                                      \n",
      "iterasi : 98, cur_best_mae: 1150.782993983896                                     \n",
      "iterasi : 99, cur_best_mae: 1148.5554566599847                                    \n",
      "100%|██████████| 100/100 [1:01:35<00:00, 36.96s/trial, best loss: 1148.5554566599847]\n",
      "====================================================================================================\n"
     ]
    }
   ],
   "source": [
    "models = [{\n",
    "    'name' : 'Random Forest',\n",
    "    'objective': objRandomForest,\n",
    "    'space' : { \n",
    "        'max_depth': hp.quniform('max_depth', 5, 9, 1), # nilai discret / nilai yang berurutan, dari 5 sampai 9, stepnya 1 >> 5,6,7,8,9\n",
    "        'min_samples_split': hp.quniform('min_samples_split', 2, 6, 1),\n",
    "        'min_samples_leaf': hp.quniform('min_samples_leaf', 1, 5, 1)\n",
    "    }\n",
    "}, {\n",
    "    'name' : 'CatBoost',\n",
    "    'objective': objCatBoost,\n",
    "    'space' : { \n",
    "        'depth': hp.quniform('depth', 5, 9, 1), # nilai discret / nilai yang berurutan, dari 5 sampai 9, stepnya 1 >> 5,6,7,8,9\n",
    "        'learning_rate': hp.loguniform('learning_rate',  -5.0, -2) # hasil nilai exponen dari np.exp(-5) atau 2.71828**-5 = 0.006 sampai np.exp(-2) atau  2.71828**-2= 0.135\n",
    "    }\n",
    "}, {\n",
    "    'name' : 'CatBoost Category',\n",
    "    'objective': objCatBoostCategory,\n",
    "    'space' : { \n",
    "        'depth': hp.quniform('depth', 5, 9, 1), # nilai discret / nilai yang berurutan, dari 5 sampai 9, stepnya 1 >> 5,6,7,8,9\n",
    "        'learning_rate': hp.loguniform('learning_rate',  -5.0, -2) # hasil nilai exponen dari np.exp(-5) atau 2.71828**-5 = 0.006 sampai np.exp(-2) atau  2.71828**-2= 0.135\n",
    "    }\n",
    "}]\n",
    "\n",
    "model_name = []\n",
    "model_param = []\n",
    "model_mae_score = []\n",
    "model_mape_score = []\n",
    "exec_time = []\n",
    "\n",
    "N_HYPEROPT_PROBES = 100 # jumlah iterasi\n",
    "HYPEROPT_ALGO = tpe.suggest # parameter standard untuk random search\n",
    "\n",
    "for i in models:\n",
    "    start_time = time.time()\n",
    "    cur_best_mae = np.inf # untuk simpan nilai MAE terkecil/terbaik\n",
    "    cur_best_mape = np.inf # untuk simpan nilai MAE terkecil/terbaik\n",
    "    obj_call_count = 0\n",
    "    \n",
    "    print(i['name'])\n",
    "    \n",
    "    trials = Trials()\n",
    "    best = hyperopt.fmin(\n",
    "        fn=i['objective'], # This function will be called with a value generated from `space`\n",
    "        space=i['space'], # set of possible arguments to `fn`\n",
    "        algo=HYPEROPT_ALGO, # search algorithm\n",
    "        max_evals=N_HYPEROPT_PROBES,\n",
    "        trials=trials, # Allow up to this many function evaluations before returning\n",
    "        rstate= np.random.RandomState(42), # random state, agar hasil best parameter tidak berubah setiap kali dirun\n",
    "        verbose=True\n",
    "    )\n",
    "    \n",
    "    model_name.append(i['name'])\n",
    "    model_param.append(best)\n",
    "    model_mae_score.append(cur_best_mae)\n",
    "    model_mape_score.append(cur_best_mape)\n",
    "    exec_time.append(time.time() - start_time)\n",
    "    \n",
    "    print('='*100)\n",
    "    "
   ]
  },
  {
   "cell_type": "code",
   "execution_count": 10,
   "metadata": {
    "ExecuteTime": {
     "end_time": "2021-10-06T12:03:16.729557Z",
     "start_time": "2021-10-06T12:03:16.714536Z"
    }
   },
   "outputs": [
    {
     "data": {
      "text/html": [
       "<div>\n",
       "<style scoped>\n",
       "    .dataframe tbody tr th:only-of-type {\n",
       "        vertical-align: middle;\n",
       "    }\n",
       "\n",
       "    .dataframe tbody tr th {\n",
       "        vertical-align: top;\n",
       "    }\n",
       "\n",
       "    .dataframe thead th {\n",
       "        text-align: right;\n",
       "    }\n",
       "</style>\n",
       "<table border=\"1\" class=\"dataframe\">\n",
       "  <thead>\n",
       "    <tr style=\"text-align: right;\">\n",
       "      <th></th>\n",
       "      <th>model</th>\n",
       "      <th>best_param</th>\n",
       "      <th>mae_score</th>\n",
       "      <th>mape_score</th>\n",
       "      <th>exec_time</th>\n",
       "    </tr>\n",
       "  </thead>\n",
       "  <tbody>\n",
       "    <tr>\n",
       "      <th>0</th>\n",
       "      <td>Random Forest</td>\n",
       "      <td>{'max_depth': 9.0, 'min_samples_leaf': 3.0, 'min_samples_split': 3.0}</td>\n",
       "      <td>1590.483846</td>\n",
       "      <td>10.074372</td>\n",
       "      <td>1522.083928</td>\n",
       "    </tr>\n",
       "    <tr>\n",
       "      <th>1</th>\n",
       "      <td>CatBoost</td>\n",
       "      <td>{'depth': 9.0, 'learning_rate': 0.0941932282877387}</td>\n",
       "      <td>1237.678661</td>\n",
       "      <td>7.690776</td>\n",
       "      <td>1073.260708</td>\n",
       "    </tr>\n",
       "    <tr>\n",
       "      <th>2</th>\n",
       "      <td>CatBoost Category</td>\n",
       "      <td>{'depth': 9.0, 'learning_rate': 0.12010440689306091}</td>\n",
       "      <td>1148.555457</td>\n",
       "      <td>7.166322</td>\n",
       "      <td>3695.732922</td>\n",
       "    </tr>\n",
       "  </tbody>\n",
       "</table>\n",
       "</div>"
      ],
      "text/plain": [
       "               model  \\\n",
       "0      Random Forest   \n",
       "1           CatBoost   \n",
       "2  CatBoost Category   \n",
       "\n",
       "                                                              best_param  \\\n",
       "0  {'max_depth': 9.0, 'min_samples_leaf': 3.0, 'min_samples_split': 3.0}   \n",
       "1                    {'depth': 9.0, 'learning_rate': 0.0941932282877387}   \n",
       "2                   {'depth': 9.0, 'learning_rate': 0.12010440689306091}   \n",
       "\n",
       "     mae_score  mape_score    exec_time  \n",
       "0  1590.483846   10.074372  1522.083928  \n",
       "1  1237.678661    7.690776  1073.260708  \n",
       "2  1148.555457    7.166322  3695.732922  "
      ]
     },
     "execution_count": 10,
     "metadata": {},
     "output_type": "execute_result"
    }
   ],
   "source": [
    "modelComparison=pd.DataFrame({\n",
    "    'model': model_name,\n",
    "    'best_param': model_param,\n",
    "    'mae_score': model_mae_score,\n",
    "    'mape_score': model_mape_score,\n",
    "    'exec_time': exec_time\n",
    "})\n",
    "modelComparison"
   ]
  },
  {
   "cell_type": "markdown",
   "metadata": {},
   "source": [
    "Dari hasil feature engineering dan optimisasi parameter dengan hyperopt kita mendapatkan, penurunan performa pada Random Forest, dan peningkatan performa pada catboost & catboost category. Dari hasil diatas kita dapat memutuskan model terbaik yang akan kita gunakan adalah Catboost Category dengan Skor MAE 1148.5 atau persentase kesalahan prediksi sebesar 7.16% "
   ]
  },
  {
   "cell_type": "code",
   "execution_count": null,
   "metadata": {},
   "outputs": [],
   "source": []
  }
 ],
 "metadata": {
  "kernelspec": {
   "display_name": "Python 3",
   "language": "python",
   "name": "python3"
  },
  "language_info": {
   "codemirror_mode": {
    "name": "ipython",
    "version": 3
   },
   "file_extension": ".py",
   "mimetype": "text/x-python",
   "name": "python",
   "nbconvert_exporter": "python",
   "pygments_lexer": "ipython3",
   "version": "3.8.5"
  },
  "toc": {
   "base_numbering": 1,
   "nav_menu": {},
   "number_sections": true,
   "sideBar": true,
   "skip_h1_title": false,
   "title_cell": "Table of Contents",
   "title_sidebar": "Contents",
   "toc_cell": false,
   "toc_position": {},
   "toc_section_display": true,
   "toc_window_display": false
  }
 },
 "nbformat": 4,
 "nbformat_minor": 4
}
